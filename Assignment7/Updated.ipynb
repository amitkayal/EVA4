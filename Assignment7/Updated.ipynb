{
  "nbformat": 4,
  "nbformat_minor": 0,
  "metadata": {
    "colab": {
      "name": "Untitled2.ipynb",
      "provenance": [],
      "authorship_tag": "ABX9TyMA4IQ+eGD36MqjQ/eAnyh+",
      "include_colab_link": true
    },
    "kernelspec": {
      "name": "python3",
      "display_name": "Python 3"
    },
    "accelerator": "GPU"
  },
  "cells": [
    {
      "cell_type": "markdown",
      "metadata": {
        "id": "view-in-github",
        "colab_type": "text"
      },
      "source": [
        "<a href=\"https://colab.research.google.com/github/roshantac/EVA4/blob/master/Assignment7/Updated.ipynb\" target=\"_parent\"><img src=\"https://colab.research.google.com/assets/colab-badge.svg\" alt=\"Open In Colab\"/></a>"
      ]
    },
    {
      "cell_type": "code",
      "metadata": {
        "id": "x1Cld0n9XRX7",
        "colab_type": "code",
        "colab": {
          "base_uri": "https://localhost:8080/",
          "height": 1000
        },
        "outputId": "972cce7f-bc67-4362-adbe-d2efdafaddc6"
      },
      "source": [
        "import torch\n",
        "import torchvision\n",
        "import torchvision.transforms as transforms\n",
        "from dataset import *\n",
        "trainloader, testloader, classes = getData()\n",
        "\n",
        "import torch.nn as nn\n",
        "import torch.nn.functional as F\n",
        "from base_functions import *\n",
        "class Net(nn.Module):\n",
        "    def __init__(self):\n",
        "        super(Net, self).__init__()       \n",
        "        self.model = nn.Sequential(Conv2d_BN(3,32,dropout=0.1,dilate=2),   # 28\n",
        "                                Conv2d_BN(32,48,dropout=0.1),  # 26 #\n",
        "                                Maxpooling(2),                 # 13\n",
        "                                DepthwiseConv2D(48,96,1,dropout=0.1),\n",
        "                                Conv2d_BN(96,128,dropout=0.1), # 9\n",
        "                                DepthwiseConv2D(128,256,1,dropout=0.1),\n",
        "                                Conv2d(256,328),# 5\n",
        "                                gap(5),\n",
        "                                Conv1x1(328,10),                                \n",
        "                                )\n",
        "    \n",
        "    def forward(self,x):\n",
        "      x = self.model(x)\n",
        "      x=x.view(-1,10)\n",
        "      return F.log_softmax(x, dim= -1)\n",
        "    \n",
        "\n",
        "from torchsummary import summary\n",
        "use_cuda = torch.cuda.is_available()\n",
        "device = torch.device(\"cuda\" if use_cuda else \"cpu\")\n",
        "print(device)\n",
        "model = Net().to(device)\n",
        "if device == 'cuda':\n",
        "    model = torch.nn.DataParallel(model)\n",
        "    cudnn.benchmark = True\n",
        "summary(model, input_size=(3, 32, 32))\n",
        "\n",
        "from traing import *\n",
        "Training(15,model,device, trainloader, testloader )\n",
        "\n",
        "ClassTestAccuracy(testloader,device,model,classes)"
      ],
      "execution_count": 1,
      "outputs": [
        {
          "output_type": "stream",
          "text": [
            "Files already downloaded and verified\n",
            "Files already downloaded and verified\n",
            "cuda\n"
          ],
          "name": "stdout"
        },
        {
          "output_type": "stream",
          "text": [
            "\r  0%|          | 0/391 [00:00<?, ?it/s]"
          ],
          "name": "stderr"
        },
        {
          "output_type": "stream",
          "text": [
            "----------------------------------------------------------------\n",
            "        Layer (type)               Output Shape         Param #\n",
            "================================================================\n",
            "            Conv2d-1           [-1, 32, 28, 28]             864\n",
            "              ReLU-2           [-1, 32, 28, 28]               0\n",
            "       BatchNorm2d-3           [-1, 32, 28, 28]              64\n",
            "           Dropout-4           [-1, 32, 28, 28]               0\n",
            "            Conv2d-5           [-1, 48, 26, 26]          13,824\n",
            "              ReLU-6           [-1, 48, 26, 26]               0\n",
            "       BatchNorm2d-7           [-1, 48, 26, 26]              96\n",
            "           Dropout-8           [-1, 48, 26, 26]               0\n",
            "         MaxPool2d-9           [-1, 48, 13, 13]               0\n",
            "           Conv2d-10           [-1, 48, 13, 13]             480\n",
            "           Conv2d-11           [-1, 96, 13, 13]           4,704\n",
            "             ReLU-12           [-1, 96, 13, 13]               0\n",
            "      BatchNorm2d-13           [-1, 96, 13, 13]             192\n",
            "          Dropout-14           [-1, 96, 13, 13]               0\n",
            "           Conv2d-15          [-1, 128, 11, 11]         110,592\n",
            "             ReLU-16          [-1, 128, 11, 11]               0\n",
            "      BatchNorm2d-17          [-1, 128, 11, 11]             256\n",
            "          Dropout-18          [-1, 128, 11, 11]               0\n",
            "           Conv2d-19          [-1, 128, 11, 11]           1,280\n",
            "           Conv2d-20          [-1, 256, 11, 11]          33,024\n",
            "             ReLU-21          [-1, 256, 11, 11]               0\n",
            "      BatchNorm2d-22          [-1, 256, 11, 11]             512\n",
            "          Dropout-23          [-1, 256, 11, 11]               0\n",
            "           Conv2d-24            [-1, 328, 9, 9]         755,712\n",
            "        AvgPool2d-25            [-1, 328, 1, 1]               0\n",
            "           Conv2d-26             [-1, 10, 1, 1]           3,280\n",
            "================================================================\n",
            "Total params: 924,880\n",
            "Trainable params: 924,880\n",
            "Non-trainable params: 0\n",
            "----------------------------------------------------------------\n",
            "Input size (MB): 0.01\n",
            "Forward/backward pass size (MB): 4.12\n",
            "Params size (MB): 3.53\n",
            "Estimated Total Size (MB): 7.66\n",
            "----------------------------------------------------------------\n",
            "EPOCH: 0\n"
          ],
          "name": "stdout"
        },
        {
          "output_type": "stream",
          "text": [
            "Loss=1.5261776447296143 Batch_id=390 Accuracy=40.25: 100%|██████████| 391/391 [00:42<00:00, 11.28it/s]\n",
            "  0%|          | 0/391 [00:00<?, ?it/s]"
          ],
          "name": "stderr"
        },
        {
          "output_type": "stream",
          "text": [
            "\n",
            "Test set: Average loss: 1.3110, Accuracy: 5299/10000 (52.99%)\n",
            "\n",
            "EPOCH: 1\n"
          ],
          "name": "stdout"
        },
        {
          "output_type": "stream",
          "text": [
            "Loss=1.3611600399017334 Batch_id=390 Accuracy=51.62: 100%|██████████| 391/391 [00:42<00:00, 11.15it/s]\n",
            "  0%|          | 0/391 [00:00<?, ?it/s]"
          ],
          "name": "stderr"
        },
        {
          "output_type": "stream",
          "text": [
            "\n",
            "Test set: Average loss: 1.1460, Accuracy: 5939/10000 (59.39%)\n",
            "\n",
            "EPOCH: 2\n"
          ],
          "name": "stdout"
        },
        {
          "output_type": "stream",
          "text": [
            "Loss=1.1987191438674927 Batch_id=390 Accuracy=56.52: 100%|██████████| 391/391 [00:42<00:00,  9.14it/s]\n",
            "  0%|          | 0/391 [00:00<?, ?it/s]"
          ],
          "name": "stderr"
        },
        {
          "output_type": "stream",
          "text": [
            "\n",
            "Test set: Average loss: 1.0326, Accuracy: 6380/10000 (63.80%)\n",
            "\n",
            "EPOCH: 3\n"
          ],
          "name": "stdout"
        },
        {
          "output_type": "stream",
          "text": [
            "Loss=1.27242112159729 Batch_id=390 Accuracy=59.43: 100%|██████████| 391/391 [00:42<00:00,  9.12it/s]\n",
            "  0%|          | 0/391 [00:00<?, ?it/s]"
          ],
          "name": "stderr"
        },
        {
          "output_type": "stream",
          "text": [
            "\n",
            "Test set: Average loss: 0.9707, Accuracy: 6627/10000 (66.27%)\n",
            "\n",
            "EPOCH: 4\n"
          ],
          "name": "stdout"
        },
        {
          "output_type": "stream",
          "text": [
            "Loss=1.0502784252166748 Batch_id=390 Accuracy=61.89: 100%|██████████| 391/391 [00:43<00:00,  9.08it/s]\n",
            "  0%|          | 0/391 [00:00<?, ?it/s]"
          ],
          "name": "stderr"
        },
        {
          "output_type": "stream",
          "text": [
            "\n",
            "Test set: Average loss: 0.9164, Accuracy: 6771/10000 (67.71%)\n",
            "\n",
            "EPOCH: 5\n"
          ],
          "name": "stdout"
        },
        {
          "output_type": "stream",
          "text": [
            "Loss=0.9363619089126587 Batch_id=390 Accuracy=63.59: 100%|██████████| 391/391 [00:42<00:00,  9.10it/s]\n",
            "  0%|          | 0/391 [00:00<?, ?it/s]"
          ],
          "name": "stderr"
        },
        {
          "output_type": "stream",
          "text": [
            "\n",
            "Test set: Average loss: 0.8563, Accuracy: 7044/10000 (70.44%)\n",
            "\n",
            "EPOCH: 6\n"
          ],
          "name": "stdout"
        },
        {
          "output_type": "stream",
          "text": [
            "Loss=0.958914577960968 Batch_id=390 Accuracy=67.66: 100%|██████████| 391/391 [00:43<00:00,  9.05it/s]\n",
            "  0%|          | 0/391 [00:00<?, ?it/s]"
          ],
          "name": "stderr"
        },
        {
          "output_type": "stream",
          "text": [
            "\n",
            "Test set: Average loss: 0.7759, Accuracy: 7317/10000 (73.17%)\n",
            "\n",
            "EPOCH: 7\n"
          ],
          "name": "stdout"
        },
        {
          "output_type": "stream",
          "text": [
            "Loss=0.9916175603866577 Batch_id=390 Accuracy=68.41: 100%|██████████| 391/391 [00:43<00:00,  9.02it/s]\n",
            "  0%|          | 0/391 [00:00<?, ?it/s]"
          ],
          "name": "stderr"
        },
        {
          "output_type": "stream",
          "text": [
            "\n",
            "Test set: Average loss: 0.7642, Accuracy: 7394/10000 (73.94%)\n",
            "\n",
            "EPOCH: 8\n"
          ],
          "name": "stdout"
        },
        {
          "output_type": "stream",
          "text": [
            "Loss=0.8356202840805054 Batch_id=390 Accuracy=69.22: 100%|██████████| 391/391 [00:43<00:00, 10.92it/s]\n",
            "  0%|          | 0/391 [00:00<?, ?it/s]"
          ],
          "name": "stderr"
        },
        {
          "output_type": "stream",
          "text": [
            "\n",
            "Test set: Average loss: 0.7612, Accuracy: 7378/10000 (73.78%)\n",
            "\n",
            "EPOCH: 9\n"
          ],
          "name": "stdout"
        },
        {
          "output_type": "stream",
          "text": [
            "Loss=1.1606601476669312 Batch_id=390 Accuracy=69.45: 100%|██████████| 391/391 [00:42<00:00, 11.53it/s]\n",
            "  0%|          | 0/391 [00:00<?, ?it/s]"
          ],
          "name": "stderr"
        },
        {
          "output_type": "stream",
          "text": [
            "\n",
            "Test set: Average loss: 0.7522, Accuracy: 7421/10000 (74.21%)\n",
            "\n",
            "EPOCH: 10\n"
          ],
          "name": "stdout"
        },
        {
          "output_type": "stream",
          "text": [
            "Loss=0.8744171261787415 Batch_id=390 Accuracy=69.86: 100%|██████████| 391/391 [00:42<00:00,  9.13it/s]\n",
            "  0%|          | 0/391 [00:00<?, ?it/s]"
          ],
          "name": "stderr"
        },
        {
          "output_type": "stream",
          "text": [
            "\n",
            "Test set: Average loss: 0.7544, Accuracy: 7432/10000 (74.32%)\n",
            "\n",
            "EPOCH: 11\n"
          ],
          "name": "stdout"
        },
        {
          "output_type": "stream",
          "text": [
            "Loss=0.8406494855880737 Batch_id=390 Accuracy=70.16: 100%|██████████| 391/391 [00:42<00:00,  9.13it/s]\n",
            "  0%|          | 0/391 [00:00<?, ?it/s]"
          ],
          "name": "stderr"
        },
        {
          "output_type": "stream",
          "text": [
            "\n",
            "Test set: Average loss: 0.7482, Accuracy: 7443/10000 (74.43%)\n",
            "\n",
            "EPOCH: 12\n"
          ],
          "name": "stdout"
        },
        {
          "output_type": "stream",
          "text": [
            "Loss=0.903077244758606 Batch_id=390 Accuracy=70.25: 100%|██████████| 391/391 [00:43<00:00,  9.02it/s]\n",
            "  0%|          | 0/391 [00:00<?, ?it/s]"
          ],
          "name": "stderr"
        },
        {
          "output_type": "stream",
          "text": [
            "\n",
            "Test set: Average loss: 0.7348, Accuracy: 7506/10000 (75.06%)\n",
            "\n",
            "EPOCH: 13\n"
          ],
          "name": "stdout"
        },
        {
          "output_type": "stream",
          "text": [
            "Loss=0.68211829662323 Batch_id=390 Accuracy=70.73: 100%|██████████| 391/391 [00:42<00:00, 11.36it/s]\n",
            "  0%|          | 0/391 [00:00<?, ?it/s]"
          ],
          "name": "stderr"
        },
        {
          "output_type": "stream",
          "text": [
            "\n",
            "Test set: Average loss: 0.7305, Accuracy: 7527/10000 (75.27%)\n",
            "\n",
            "EPOCH: 14\n"
          ],
          "name": "stdout"
        },
        {
          "output_type": "stream",
          "text": [
            "Loss=0.8498944044113159 Batch_id=390 Accuracy=70.64: 100%|██████████| 391/391 [00:43<00:00, 10.69it/s]\n"
          ],
          "name": "stderr"
        },
        {
          "output_type": "stream",
          "text": [
            "\n",
            "Test set: Average loss: 0.7307, Accuracy: 7517/10000 (75.17%)\n",
            "\n",
            "Accuracy of plane : 90 %\n",
            "Accuracy of   car : 93 %\n",
            "Accuracy of  bird : 55 %\n",
            "Accuracy of   cat : 60 %\n",
            "Accuracy of  deer : 75 %\n",
            "Accuracy of   dog : 56 %\n",
            "Accuracy of  frog : 77 %\n",
            "Accuracy of horse : 90 %\n",
            "Accuracy of  ship : 85 %\n",
            "Accuracy of truck : 72 %\n"
          ],
          "name": "stdout"
        }
      ]
    }
  ]
}