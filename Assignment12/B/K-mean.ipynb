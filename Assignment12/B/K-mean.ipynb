{
  "nbformat": 4,
  "nbformat_minor": 0,
  "metadata": {
    "colab": {
      "name": "Untitled8.ipynb",
      "provenance": [],
      "collapsed_sections": [],
      "authorship_tag": "ABX9TyMpAWEQYrTUT4kesux9L6sN",
      "include_colab_link": true
    },
    "kernelspec": {
      "name": "python3",
      "display_name": "Python 3"
    }
  },
  "cells": [
    {
      "cell_type": "markdown",
      "metadata": {
        "id": "view-in-github",
        "colab_type": "text"
      },
      "source": [
        "<a href=\"https://colab.research.google.com/github/roshantac/EVA4/blob/master/Assignment12/B/K-mean.ipynb\" target=\"_parent\"><img src=\"https://colab.research.google.com/assets/colab-badge.svg\" alt=\"Open In Colab\"/></a>"
      ]
    },
    {
      "cell_type": "code",
      "metadata": {
        "id": "B8UcLgRHsL2U",
        "colab_type": "code",
        "colab": {}
      },
      "source": [
        "import json\n",
        "from PIL import Image\n",
        "data = json.load(open('dogdata.json'))"
      ],
      "execution_count": 0,
      "outputs": []
    },
    {
      "cell_type": "code",
      "metadata": {
        "id": "xcNUhfqRI473",
        "colab_type": "code",
        "colab": {}
      },
      "source": [
        "c = data['_via_img_metadata'] "
      ],
      "execution_count": 0,
      "outputs": []
    },
    {
      "cell_type": "code",
      "metadata": {
        "id": "fnE1P7xON7-c",
        "colab_type": "code",
        "colab": {}
      },
      "source": [
        "width_arr =[]\n",
        "height_arr = []\n",
        "for i in c:\n",
        "  k = c[i]\n",
        "  flname= k['filename']\n",
        "  img = Image.open(flname)\n",
        "  w,h= img.size\n",
        "  l = k['regions'][0]\n",
        "  m = l['shape_attributes']\n",
        "  width = m['width']/w\n",
        "  height = m['height']/h\n",
        "  height_arr.append(height)\n",
        "  width_arr.append(width)\n"
      ],
      "execution_count": 0,
      "outputs": []
    },
    {
      "cell_type": "code",
      "metadata": {
        "id": "iZ7yOiF-alRt",
        "colab_type": "code",
        "colab": {}
      },
      "source": [
        "import matplotlib.pyplot as plt"
      ],
      "execution_count": 0,
      "outputs": []
    },
    {
      "cell_type": "code",
      "metadata": {
        "id": "qghVf-zHasnF",
        "colab_type": "code",
        "colab": {
          "base_uri": "https://localhost:8080/",
          "height": 312
        },
        "outputId": "95a4010a-8c35-4daf-cac5-c6e44d53c065"
      },
      "source": [
        "plt.scatter(width_arr,height_arr)\n",
        "plt.xlabel('Width')\n",
        "plt.ylabel('Height')\n",
        "plt.title('height vs width plot')"
      ],
      "execution_count": 102,
      "outputs": [
        {
          "output_type": "execute_result",
          "data": {
            "text/plain": [
              "Text(0.5, 1.0, 'height vs width plot')"
            ]
          },
          "metadata": {
            "tags": []
          },
          "execution_count": 102
        },
        {
          "output_type": "display_data",
          "data": {
            "image/png": "[encoded data removed]",
            "text/plain": [
              "<Figure size 432x288 with 1 Axes>"
            ]
          },
          "metadata": {
            "tags": [],
            "needs_background": "light"
          }
        }
      ]
    },
    {
      "cell_type": "code",
      "metadata": {
        "colab_type": "code",
        "id": "joex2UHaeLfD",
        "colab": {}
      },
      "source": [
        "import math\n",
        "logwidth_arr = []\n",
        "logheight_arr = []\n",
        "for i in range(50):\n",
        "  logwidth_arr.append(math.log(width_arr[i]))\n",
        "  logheight_arr.append( math.log(height_arr[i]))"
      ],
      "execution_count": 0,
      "outputs": []
    },
    {
      "cell_type": "code",
      "metadata": {
        "id": "BAanbDoTdBFN",
        "colab_type": "code",
        "colab": {
          "base_uri": "https://localhost:8080/",
          "height": 312
        },
        "outputId": "762bb55c-f43a-40df-b751-da47ec647f75"
      },
      "source": [
        "plt.scatter(logwidth_arr,logheight_arr)\n",
        "plt.xlabel('log Width')\n",
        "plt.ylabel('log Height')\n",
        "plt.title('log height vs log width plot')"
      ],
      "execution_count": 104,
      "outputs": [
        {
          "output_type": "execute_result",
          "data": {
            "text/plain": [
              "Text(0.5, 1.0, 'log height vs log width plot')"
            ]
          },
          "metadata": {
            "tags": []
          },
          "execution_count": 104
        },
        {
          "output_type": "display_data",
          "data": {
            "image/png": "[encoded data removed]",
            "text/plain": [
              "<Figure size 432x288 with 1 Axes>"
            ]
          },
          "metadata": {
            "tags": [],
            "needs_background": "light"
          }
        }
      ]
    },
    {
      "cell_type": "code",
      "metadata": {
        "id": "zU69SIVLe9r8",
        "colab_type": "code",
        "colab": {
          "base_uri": "https://localhost:8080/",
          "height": 295
        },
        "outputId": "66d14595-f5ad-4e56-ba09-2e40cfacbaf9"
      },
      "source": [
        "from sklearn.cluster import KMeans \n",
        "import numpy as np\n",
        "wcss = []\n",
        "arr=[]\n",
        "a= np.array(width_arr)\n",
        "a=a.reshape(50,1)\n",
        "b = np.array(height_arr)\n",
        "b= b.reshape(50,1)\n",
        "arr =np.concatenate((a,b),axis=1)\n",
        "for i in range(1, 30):\n",
        "    kmeans = KMeans(n_clusters=i)\n",
        "    kmeans.fit(arr)\n",
        "    wcss.append(kmeans.inertia_)\n",
        "plt.plot(range(1, 30), wcss,'-*')\n",
        "plt.title('Elbow Method')\n",
        "plt.xlabel('Number of clusters')\n",
        "plt.ylabel('WCSS')\n",
        "plt.show()\n",
        "\n",
        "\n"
      ],
      "execution_count": 110,
      "outputs": [
        {
          "output_type": "display_data",
          "data": {
            "image/png": "[encoded data removed]",
            "text/plain": [
              "<Figure size 432x288 with 1 Axes>"
            ]
          },
          "metadata": {
            "tags": [],
            "needs_background": "light"
          }
        }
      ]
    },
    {
      "cell_type": "code",
      "metadata": {
        "id": "wWqYO6ykokLw",
        "colab_type": "code",
        "colab": {
          "base_uri": "https://localhost:8080/",
          "height": 265
        },
        "outputId": "85f51a5a-8d14-48f9-e7b9-c9c32376a4e8"
      },
      "source": [
        "kmeans = KMeans(n_clusters=7, init='k-means++', max_iter=300, n_init=10, random_state=0)\n",
        "pred_y = kmeans.fit_predict(arr)\n",
        "plt.scatter(width_arr,height_arr)\n",
        "plt.scatter(kmeans.cluster_centers_[:, 0], kmeans.cluster_centers_[:, 1], s=300, c='red')\n",
        "plt.show()"
      ],
      "execution_count": 109,
      "outputs": [
        {
          "output_type": "display_data",
          "data": {
            "image/png": "[encoded data removed]",
            "text/plain": [
              "<Figure size 432x288 with 1 Axes>"
            ]
          },
          "metadata": {
            "tags": [],
            "needs_background": "light"
          }
        }
      ]
    }
  ]
}