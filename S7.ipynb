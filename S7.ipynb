{
  "nbformat": 4,
  "nbformat_minor": 0,
  "metadata": {
    "kernelspec": {
      "name": "python3",
      "display_name": "Python 3"
    },
    "language_info": {
      "codemirror_mode": {
        "name": "ipython",
        "version": 3
      },
      "file_extension": ".py",
      "mimetype": "text/x-python",
      "name": "python",
      "nbconvert_exporter": "python",
      "pygments_lexer": "ipython3",
      "version": "3.6.6"
    },
    "colab": {
      "name": "S7.ipynb",
      "provenance": [],
      "include_colab_link": true
    },
    "accelerator": "GPU",
    "widgets": {
      "application/vnd.jupyter.widget-state+json": {
        "1134a237f15d40588ad2e5ea979ce065": {
          "model_module": "@jupyter-widgets/controls",
          "model_name": "HBoxModel",
          "state": {
            "_view_name": "HBoxView",
            "_dom_classes": [],
            "_model_name": "HBoxModel",
            "_view_module": "@jupyter-widgets/controls",
            "_model_module_version": "1.5.0",
            "_view_count": null,
            "_view_module_version": "1.5.0",
            "box_style": "",
            "layout": "IPY_MODEL_03406e5aed18411ea5b65838468115fc",
            "_model_module": "@jupyter-widgets/controls",
            "children": [
              "IPY_MODEL_c51967ca85104af6832337a39b3564fe",
              "IPY_MODEL_6ff8ddf765de42058b43f5039c3de943"
            ]
          }
        },
        "03406e5aed18411ea5b65838468115fc": {
          "model_module": "@jupyter-widgets/base",
          "model_name": "LayoutModel",
          "state": {
            "_view_name": "LayoutView",
            "grid_template_rows": null,
            "right": null,
            "justify_content": null,
            "_view_module": "@jupyter-widgets/base",
            "overflow": null,
            "_model_module_version": "1.2.0",
            "_view_count": null,
            "flex_flow": null,
            "width": null,
            "min_width": null,
            "border": null,
            "align_items": null,
            "bottom": null,
            "_model_module": "@jupyter-widgets/base",
            "top": null,
            "grid_column": null,
            "overflow_y": null,
            "overflow_x": null,
            "grid_auto_flow": null,
            "grid_area": null,
            "grid_template_columns": null,
            "flex": null,
            "_model_name": "LayoutModel",
            "justify_items": null,
            "grid_row": null,
            "max_height": null,
            "align_content": null,
            "visibility": null,
            "align_self": null,
            "height": null,
            "min_height": null,
            "padding": null,
            "grid_auto_rows": null,
            "grid_gap": null,
            "max_width": null,
            "order": null,
            "_view_module_version": "1.2.0",
            "grid_template_areas": null,
            "object_position": null,
            "object_fit": null,
            "grid_auto_columns": null,
            "margin": null,
            "display": null,
            "left": null
          }
        },
        "c51967ca85104af6832337a39b3564fe": {
          "model_module": "@jupyter-widgets/controls",
          "model_name": "IntProgressModel",
          "state": {
            "_view_name": "ProgressView",
            "style": "IPY_MODEL_6faaf1eb04b8487dbe9215e12eb31963",
            "_dom_classes": [],
            "description": "",
            "_model_name": "IntProgressModel",
            "bar_style": "success",
            "max": 1,
            "_view_module": "@jupyter-widgets/controls",
            "_model_module_version": "1.5.0",
            "value": 1,
            "_view_count": null,
            "_view_module_version": "1.5.0",
            "orientation": "horizontal",
            "min": 0,
            "description_tooltip": null,
            "_model_module": "@jupyter-widgets/controls",
            "layout": "IPY_MODEL_530c0a621ff4430ca4202796dc30671b"
          }
        },
        "6ff8ddf765de42058b43f5039c3de943": {
          "model_module": "@jupyter-widgets/controls",
          "model_name": "HTMLModel",
          "state": {
            "_view_name": "HTMLView",
            "style": "IPY_MODEL_49fe9f2af7e44237957cbc7c34db40d1",
            "_dom_classes": [],
            "description": "",
            "_model_name": "HTMLModel",
            "placeholder": "​",
            "_view_module": "@jupyter-widgets/controls",
            "_model_module_version": "1.5.0",
            "value": "170500096it [00:04, 39025386.13it/s]",
            "_view_count": null,
            "_view_module_version": "1.5.0",
            "description_tooltip": null,
            "_model_module": "@jupyter-widgets/controls",
            "layout": "IPY_MODEL_82991591bbe3479584b50736a865cd97"
          }
        },
        "6faaf1eb04b8487dbe9215e12eb31963": {
          "model_module": "@jupyter-widgets/controls",
          "model_name": "ProgressStyleModel",
          "state": {
            "_view_name": "StyleView",
            "_model_name": "ProgressStyleModel",
            "description_width": "",
            "_view_module": "@jupyter-widgets/base",
            "_model_module_version": "1.5.0",
            "_view_count": null,
            "_view_module_version": "1.2.0",
            "bar_color": null,
            "_model_module": "@jupyter-widgets/controls"
          }
        },
        "530c0a621ff4430ca4202796dc30671b": {
          "model_module": "@jupyter-widgets/base",
          "model_name": "LayoutModel",
          "state": {
            "_view_name": "LayoutView",
            "grid_template_rows": null,
            "right": null,
            "justify_content": null,
            "_view_module": "@jupyter-widgets/base",
            "overflow": null,
            "_model_module_version": "1.2.0",
            "_view_count": null,
            "flex_flow": null,
            "width": null,
            "min_width": null,
            "border": null,
            "align_items": null,
            "bottom": null,
            "_model_module": "@jupyter-widgets/base",
            "top": null,
            "grid_column": null,
            "overflow_y": null,
            "overflow_x": null,
            "grid_auto_flow": null,
            "grid_area": null,
            "grid_template_columns": null,
            "flex": null,
            "_model_name": "LayoutModel",
            "justify_items": null,
            "grid_row": null,
            "max_height": null,
            "align_content": null,
            "visibility": null,
            "align_self": null,
            "height": null,
            "min_height": null,
            "padding": null,
            "grid_auto_rows": null,
            "grid_gap": null,
            "max_width": null,
            "order": null,
            "_view_module_version": "1.2.0",
            "grid_template_areas": null,
            "object_position": null,
            "object_fit": null,
            "grid_auto_columns": null,
            "margin": null,
            "display": null,
            "left": null
          }
        },
        "49fe9f2af7e44237957cbc7c34db40d1": {
          "model_module": "@jupyter-widgets/controls",
          "model_name": "DescriptionStyleModel",
          "state": {
            "_view_name": "StyleView",
            "_model_name": "DescriptionStyleModel",
            "description_width": "",
            "_view_module": "@jupyter-widgets/base",
            "_model_module_version": "1.5.0",
            "_view_count": null,
            "_view_module_version": "1.2.0",
            "_model_module": "@jupyter-widgets/controls"
          }
        },
        "82991591bbe3479584b50736a865cd97": {
          "model_module": "@jupyter-widgets/base",
          "model_name": "LayoutModel",
          "state": {
            "_view_name": "LayoutView",
            "grid_template_rows": null,
            "right": null,
            "justify_content": null,
            "_view_module": "@jupyter-widgets/base",
            "overflow": null,
            "_model_module_version": "1.2.0",
            "_view_count": null,
            "flex_flow": null,
            "width": null,
            "min_width": null,
            "border": null,
            "align_items": null,
            "bottom": null,
            "_model_module": "@jupyter-widgets/base",
            "top": null,
            "grid_column": null,
            "overflow_y": null,
            "overflow_x": null,
            "grid_auto_flow": null,
            "grid_area": null,
            "grid_template_columns": null,
            "flex": null,
            "_model_name": "LayoutModel",
            "justify_items": null,
            "grid_row": null,
            "max_height": null,
            "align_content": null,
            "visibility": null,
            "align_self": null,
            "height": null,
            "min_height": null,
            "padding": null,
            "grid_auto_rows": null,
            "grid_gap": null,
            "max_width": null,
            "order": null,
            "_view_module_version": "1.2.0",
            "grid_template_areas": null,
            "object_position": null,
            "object_fit": null,
            "grid_auto_columns": null,
            "margin": null,
            "display": null,
            "left": null
          }
        }
      }
    }
  },
  "cells": [
    {
      "cell_type": "markdown",
      "metadata": {
        "id": "view-in-github",
        "colab_type": "text"
      },
      "source": [
        "<a href=\"https://colab.research.google.com/github/roshantac/EVA4/blob/master/S7.ipynb\" target=\"_parent\"><img src=\"https://colab.research.google.com/assets/colab-badge.svg\" alt=\"Open In Colab\"/></a>"
      ]
    },
    {
      "cell_type": "code",
      "metadata": {
        "id": "QVbdg0z4poCc",
        "colab_type": "code",
        "colab": {}
      },
      "source": [
        "%matplotlib inline"
      ],
      "execution_count": 0,
      "outputs": []
    },
    {
      "cell_type": "markdown",
      "metadata": {
        "id": "fPogbueepoCh",
        "colab_type": "text"
      },
      "source": [
        "\n",
        "Training a Classifier\n",
        "=====================\n",
        "\n",
        "This is it. You have seen how to define neural networks, compute loss and make\n",
        "updates to the weights of the network.\n",
        "\n",
        "Now you might be thinking,\n",
        "\n",
        "What about data?\n",
        "----------------\n",
        "\n",
        "Generally, when you have to deal with image, text, audio or video data,\n",
        "you can use standard python packages that load data into a numpy array.\n",
        "Then you can convert this array into a ``torch.*Tensor``.\n",
        "\n",
        "-  For images, packages such as Pillow, OpenCV are useful\n",
        "-  For audio, packages such as scipy and librosa\n",
        "-  For text, either raw Python or Cython based loading, or NLTK and\n",
        "   SpaCy are useful\n",
        "\n",
        "Specifically for vision, we have created a package called\n",
        "``torchvision``, that has data loaders for common datasets such as\n",
        "Imagenet, CIFAR10, MNIST, etc. and data transformers for images, viz.,\n",
        "``torchvision.datasets`` and ``torch.utils.data.DataLoader``.\n",
        "\n",
        "This provides a huge convenience and avoids writing boilerplate code.\n",
        "\n",
        "For this tutorial, we will use the CIFAR10 dataset.\n",
        "It has the classes: ‘airplane’, ‘automobile’, ‘bird’, ‘cat’, ‘deer’,\n",
        "‘dog’, ‘frog’, ‘horse’, ‘ship’, ‘truck’. The images in CIFAR-10 are of\n",
        "size 3x32x32, i.e. 3-channel color images of 32x32 pixels in size.\n",
        "\n",
        ".. figure:: /_static/img/cifar10.png\n",
        "   :alt: cifar10\n",
        "\n",
        "   cifar10\n",
        "\n",
        "\n",
        "Training an image classifier\n",
        "----------------------------\n",
        "\n",
        "We will do the following steps in order:\n",
        "\n",
        "1. Load and normalizing the CIFAR10 training and test datasets using\n",
        "   ``torchvision``\n",
        "2. Define a Convolution Neural Network\n",
        "3. Define a loss function\n",
        "4. Train the network on the training data\n",
        "5. Test the network on the test data\n",
        "\n",
        "1. Loading and normalizing CIFAR10\n",
        "^^^^^^^^^^^^^^^^^^^^^^^^^^^^^^^^^^\n",
        "\n",
        "Using ``torchvision``, it’s extremely easy to load CIFAR10.\n",
        "\n"
      ]
    },
    {
      "cell_type": "code",
      "metadata": {
        "id": "-yVpodAMpoCi",
        "colab_type": "code",
        "colab": {}
      },
      "source": [
        "import torch\n",
        "import torchvision\n",
        "import torchvision.transforms as transforms"
      ],
      "execution_count": 0,
      "outputs": []
    },
    {
      "cell_type": "markdown",
      "metadata": {
        "id": "5kjt4e2TpoCk",
        "colab_type": "text"
      },
      "source": [
        "The output of torchvision datasets are PILImage images of range [0, 1].\n",
        "We transform them to Tensors of normalized range [-1, 1].\n",
        "\n"
      ]
    },
    {
      "cell_type": "code",
      "metadata": {
        "id": "D8Tjigo2poCl",
        "colab_type": "code",
        "outputId": "a7ca109b-2745-4a5c-c4a0-4869783655e3",
        "colab": {
          "base_uri": "https://localhost:8080/",
          "height": 124,
          "referenced_widgets": [
            "1134a237f15d40588ad2e5ea979ce065",
            "03406e5aed18411ea5b65838468115fc",
            "c51967ca85104af6832337a39b3564fe",
            "6ff8ddf765de42058b43f5039c3de943",
            "6faaf1eb04b8487dbe9215e12eb31963",
            "530c0a621ff4430ca4202796dc30671b",
            "49fe9f2af7e44237957cbc7c34db40d1",
            "82991591bbe3479584b50736a865cd97"
          ]
        }
      },
      "source": [
        "transform_test = transforms.Compose(\n",
        "    [transforms.ToTensor(),\n",
        "     transforms.Normalize((0.4914, 0.4822, 0.4465), (0.2023, 0.1994, 0.2010))])\n",
        "transform_train = transforms.Compose([\n",
        "    transforms.RandomCrop(32, padding=4),\n",
        "    transforms.RandomHorizontalFlip(), transforms.ColorJitter(brightness=0.10, contrast=0.1, saturation=0.10, hue=0.1),\n",
        "    transforms.RandomRotation((-10.0, 10.0)), transforms.ToTensor(),\n",
        "    transforms.Normalize((0.4914, 0.4822, 0.4465), (0.2023, 0.1994, 0.2010)),\n",
        "])\n",
        "trainset = torchvision.datasets.CIFAR10(root='./data', train=True,\n",
        "                                        download=True, transform=transform_train)\n",
        "trainloader = torch.utils.data.DataLoader(trainset, batch_size= 4,\n",
        "                                          shuffle=True, num_workers=2)\n",
        "\n",
        "testset = torchvision.datasets.CIFAR10(root='./data', train=False,\n",
        "                                       download=True, transform=transform_test)\n",
        "testloader = torch.utils.data.DataLoader(testset, batch_size=4,\n",
        "                                         shuffle=False, num_workers=2)\n",
        "\n",
        "classes = ('plane', 'car', 'bird', 'cat',\n",
        "           'deer', 'dog', 'frog', 'horse', 'ship', 'truck')"
      ],
      "execution_count": 3,
      "outputs": [
        {
          "output_type": "stream",
          "text": [
            "Downloading https://www.cs.toronto.edu/~kriz/cifar-10-python.tar.gz to ./data/cifar-10-python.tar.gz\n"
          ],
          "name": "stdout"
        },
        {
          "output_type": "display_data",
          "data": {
            "application/vnd.jupyter.widget-view+json": {
              "model_id": "1134a237f15d40588ad2e5ea979ce065",
              "version_minor": 0,
              "version_major": 2
            },
            "text/plain": [
              "HBox(children=(IntProgress(value=1, bar_style='info', max=1), HTML(value='')))"
            ]
          },
          "metadata": {
            "tags": []
          }
        },
        {
          "output_type": "stream",
          "text": [
            "\n",
            "Extracting ./data/cifar-10-python.tar.gz to ./data\n",
            "Files already downloaded and verified\n"
          ],
          "name": "stdout"
        }
      ]
    },
    {
      "cell_type": "markdown",
      "metadata": {
        "id": "_cj433rtpoCn",
        "colab_type": "text"
      },
      "source": [
        "Let us show some of the training images, for fun.\n",
        "\n"
      ]
    },
    {
      "cell_type": "code",
      "metadata": {
        "id": "daA7bADhpoCo",
        "colab_type": "code",
        "outputId": "74d6621e-1eaa-4d3e-8a59-3cd29642f9cd",
        "colab": {
          "base_uri": "https://localhost:8080/",
          "height": 176
        }
      },
      "source": [
        "import matplotlib.pyplot as plt\n",
        "import numpy as np\n",
        "\n",
        "# functions to show an image\n",
        "\n",
        "\n",
        "def imshow(img):\n",
        "    img = img / 2 + 0.5     # unnormalize\n",
        "    npimg = img.numpy()\n",
        "    plt.imshow(np.transpose(npimg, (1, 2, 0)))\n",
        "\n",
        "\n",
        "# get some random training images\n",
        "dataiter = iter(trainloader)\n",
        "images, labels = dataiter.next()\n",
        "\n",
        "# show images\n",
        "imshow(torchvision.utils.make_grid(images))\n",
        "# print labels\n",
        "print(' '.join('%5s' % classes[labels[j]] for j in range(4)))"
      ],
      "execution_count": 4,
      "outputs": [
        {
          "output_type": "stream",
          "text": [
            "Clipping input data to the valid range for imshow with RGB data ([0..1] for floats or [0..255] for integers).\n"
          ],
          "name": "stderr"
        },
        {
          "output_type": "stream",
          "text": [
            "  cat   dog  frog   dog\n"
          ],
          "name": "stdout"
        },
        {
          "output_type": "display_data",
          "data": {
            "image/png": "[encoded data removed]",
            "text/plain": [
              "<Figure size 432x288 with 1 Axes>"
            ]
          },
          "metadata": {
            "tags": []
          }
        }
      ]
    },
    {
      "cell_type": "markdown",
      "metadata": {
        "id": "28OpHA_LpoCq",
        "colab_type": "text"
      },
      "source": [
        "2. Define a Convolution Neural Network\n",
        "^^^^^^^^^^^^^^^^^^^^^^^^^^^^^^^^^^^^^^\n",
        "Copy the neural network from the Neural Networks section before and modify it to\n",
        "take 3-channel images (instead of 1-channel images as it was defined).\n",
        "\n"
      ]
    },
    {
      "cell_type": "code",
      "metadata": {
        "id": "fECFU9o8rTU1",
        "colab_type": "code",
        "colab": {}
      },
      "source": [
        "import torch.nn as nn\n",
        "\n",
        "def Conv2d_BN(inChannels, outChannels,kernel=3, dropout=0, padding=1, dilate=1, b_bias=False):\n",
        "  return nn.Sequential(\n",
        "        nn.Conv2d(in_channels=inChannels, out_channels=outChannels, \n",
        "                  kernel_size=(kernel, kernel), padding=0, bias=b_bias,\n",
        "                  dilation = dilate),\n",
        "        nn.ReLU(),            \n",
        "        nn.BatchNorm2d(outChannels),\n",
        "        nn.Dropout(dropout)\n",
        "    )\n",
        "def Conv2d(inChannels, outChannels,kernel=3, padding=1, dilate=1, b_bias=False):\n",
        "  return nn.Sequential(\n",
        "        nn.Conv2d(in_channels=inChannels, out_channels=outChannels, \n",
        "                  kernel_size=(kernel, kernel), padding=0, bias=b_bias,\n",
        "                  dilation = dilate)\n",
        "    )\n",
        "def Maxpooling(kernel):\n",
        "  return nn.MaxPool2d(kernel, kernel)\n",
        "def Conv1x1(inChannels,outChannels):\n",
        "    return nn.Sequential(\n",
        "          nn.Conv2d(in_channels=inChannels, out_channels=outChannels, kernel_size=(1, 1), padding=0, bias=False),\n",
        "      ) \n",
        "def gap(kernel):\n",
        "  return nn.Sequential(nn.AvgPool2d(kernel_size=kernel))\n",
        "\n",
        "def DepthwiseConv2D(nin,nout, kernels_per_layer,dropout =0 ):\n",
        "  return nn.Sequential(nn.Conv2d(nin, nin * kernels_per_layer, kernel_size=3, padding=1, groups=nin),\n",
        "                        nn.Conv2d(nin * kernels_per_layer, nout, kernel_size=1),\n",
        "                        nn.ReLU(),            \n",
        "                        nn.BatchNorm2d(nout),\n",
        "                        nn.Dropout(dropout))\n",
        "\n",
        "\n",
        "\n",
        "    "
      ],
      "execution_count": 0,
      "outputs": []
    },
    {
      "cell_type": "code",
      "metadata": {
        "id": "0jjLwLLQpoCr",
        "colab_type": "code",
        "colab": {}
      },
      "source": [
        "import torch.nn as nn\n",
        "import torch.nn.functional as F\n",
        "\n",
        "class Net(nn.Module):\n",
        "    def __init__(self):\n",
        "        super(Net, self).__init__()\n",
        "        self.model = nn.Sequential(Conv2d_BN(3,32,dropout=0.1,dilate=2),   # 28\n",
        "                                Conv2d_BN(32,48,dropout=0.1),  # 26 #\n",
        "                                Maxpooling(2),                 # 13\n",
        "                                #Conv2d_BN(48,96,dropout=0.1), # 11\n",
        "                                DepthwiseConv2D(48,96,1,dropout=0.1),\n",
        "                                Conv2d_BN(96,128,dropout=0.1), # 9\n",
        "                                DepthwiseConv2D(128,256,3,dropout=0.1), #Conv2d_BN(128,256,dropout=0.1),# 7\n",
        "                                Conv2d(256,328),# 5\n",
        "                                gap(5),\n",
        "                                Conv1x1(328,10),\n",
        "                                \n",
        "                                )\n",
        "\n",
        "    def forward(self,x):\n",
        "      x = self.model(x)\n",
        "      x=x.view(-1,10)\n",
        "      return F.log_softmax(x, dim= -1)\n",
        "    \n",
        "net = Net()"
      ],
      "execution_count": 0,
      "outputs": []
    },
    {
      "cell_type": "code",
      "metadata": {
        "id": "JlgRkn89RJ1L",
        "colab_type": "code",
        "outputId": "279f3b53-c925-42c6-cf07-cc47d4e7b3b4",
        "colab": {
          "base_uri": "https://localhost:8080/",
          "height": 788
        }
      },
      "source": [
        "!pip install torchsummary\n",
        "from torchsummary import summary\n",
        "use_cuda = torch.cuda.is_available()\n",
        "device = torch.device(\"cuda\" if use_cuda else \"cpu\")\n",
        "print(device)\n",
        "net = Net().to(device)\n",
        "summary(net, input_size=(3, 32, 32))"
      ],
      "execution_count": 7,
      "outputs": [
        {
          "output_type": "stream",
          "text": [
            "Requirement already satisfied: torchsummary in /usr/local/lib/python3.6/dist-packages (1.5.1)\n",
            "cuda\n",
            "----------------------------------------------------------------\n",
            "        Layer (type)               Output Shape         Param #\n",
            "================================================================\n",
            "            Conv2d-1           [-1, 32, 28, 28]             864\n",
            "              ReLU-2           [-1, 32, 28, 28]               0\n",
            "       BatchNorm2d-3           [-1, 32, 28, 28]              64\n",
            "           Dropout-4           [-1, 32, 28, 28]               0\n",
            "            Conv2d-5           [-1, 48, 26, 26]          13,824\n",
            "              ReLU-6           [-1, 48, 26, 26]               0\n",
            "       BatchNorm2d-7           [-1, 48, 26, 26]              96\n",
            "           Dropout-8           [-1, 48, 26, 26]               0\n",
            "         MaxPool2d-9           [-1, 48, 13, 13]               0\n",
            "           Conv2d-10           [-1, 48, 13, 13]             480\n",
            "           Conv2d-11           [-1, 96, 13, 13]           4,704\n",
            "             ReLU-12           [-1, 96, 13, 13]               0\n",
            "      BatchNorm2d-13           [-1, 96, 13, 13]             192\n",
            "          Dropout-14           [-1, 96, 13, 13]               0\n",
            "           Conv2d-15          [-1, 128, 11, 11]         110,592\n",
            "             ReLU-16          [-1, 128, 11, 11]               0\n",
            "      BatchNorm2d-17          [-1, 128, 11, 11]             256\n",
            "          Dropout-18          [-1, 128, 11, 11]               0\n",
            "           Conv2d-19          [-1, 384, 11, 11]           3,840\n",
            "           Conv2d-20          [-1, 256, 11, 11]          98,560\n",
            "             ReLU-21          [-1, 256, 11, 11]               0\n",
            "      BatchNorm2d-22          [-1, 256, 11, 11]             512\n",
            "          Dropout-23          [-1, 256, 11, 11]               0\n",
            "           Conv2d-24            [-1, 328, 9, 9]         755,712\n",
            "        AvgPool2d-25            [-1, 328, 1, 1]               0\n",
            "           Conv2d-26             [-1, 10, 1, 1]           3,280\n",
            "================================================================\n",
            "Total params: 992,976\n",
            "Trainable params: 992,976\n",
            "Non-trainable params: 0\n",
            "----------------------------------------------------------------\n",
            "Input size (MB): 0.01\n",
            "Forward/backward pass size (MB): 4.35\n",
            "Params size (MB): 3.79\n",
            "Estimated Total Size (MB): 8.15\n",
            "----------------------------------------------------------------\n"
          ],
          "name": "stdout"
        }
      ]
    },
    {
      "cell_type": "markdown",
      "metadata": {
        "id": "Wdw2NNCUpoCu",
        "colab_type": "text"
      },
      "source": [
        "3. Define a Loss function and optimizer\n",
        "^^^^^^^^^^^^^^^^^^^^^^^^^^^^^^^^^^^^^^^\n",
        "Let's use a Classification Cross-Entropy loss and SGD with momentum.\n",
        "\n"
      ]
    },
    {
      "cell_type": "code",
      "metadata": {
        "id": "M4xBbDROpoCv",
        "colab_type": "code",
        "colab": {}
      },
      "source": [
        "import torch.optim as optim\n",
        "from torch.optim.lr_scheduler import StepLR\n",
        "criterion = nn.CrossEntropyLoss()\n",
        "optimizer = optim.SGD(net.parameters(), lr=0.001, momentum=0.99)\n",
        "scheduler = StepLR(optimizer, step_size=4, gamma=0.1)"
      ],
      "execution_count": 0,
      "outputs": []
    },
    {
      "cell_type": "markdown",
      "metadata": {
        "id": "O-odOrhdpoC2",
        "colab_type": "text"
      },
      "source": [
        "4. Train the network\n",
        "^^^^^^^^^^^^^^^^^^^^\n",
        "\n",
        "This is when things start to get interesting.\n",
        "We simply have to loop over our data iterator, and feed the inputs to the\n",
        "network and optimize.\n",
        "\n"
      ]
    },
    {
      "cell_type": "code",
      "metadata": {
        "id": "kkuRfo1IpoC3",
        "colab_type": "code",
        "outputId": "5c9f8f65-7dfa-4c37-d29a-5b92b6de97bf",
        "colab": {
          "base_uri": "https://localhost:8080/",
          "height": 1000
        }
      },
      "source": [
        "for epoch in range(35):  # loop over the dataset multiple times\n",
        "\n",
        "    running_loss = 0.0\n",
        "    for i, data in enumerate(trainloader, 0):\n",
        "        # get the inputs\n",
        "        inputs, labels = data\n",
        "        inputs = inputs.to(device)\n",
        "        labels = labels.to(device)\n",
        "\n",
        "        # zero the parameter gradients\n",
        "        optimizer.zero_grad()\n",
        "\n",
        "        # forward + backward + optimize\n",
        "        outputs = net(inputs)\n",
        "        loss = criterion(outputs, labels)\n",
        "        loss.backward()\n",
        "        optimizer.step()\n",
        "        \n",
        "        # print statistics\n",
        "        running_loss += loss.item()\n",
        "        if i % 2000 == 1999:    # print every 2000 mini-batches\n",
        "            print('[%d, %5d] loss: %.3f' %\n",
        "                  (epoch + 1, i + 1, running_loss / 2000))\n",
        "            running_loss = 0.0\n",
        "\n",
        "print('Finished Training')"
      ],
      "execution_count": 9,
      "outputs": [
        {
          "output_type": "stream",
          "text": [
            "[1,  2000] loss: 2.292\n",
            "[1,  4000] loss: 2.006\n",
            "[1,  6000] loss: 1.920\n",
            "[1,  8000] loss: 1.896\n",
            "[1, 10000] loss: 1.859\n",
            "[1, 12000] loss: 1.824\n",
            "[2,  2000] loss: 1.803\n",
            "[2,  4000] loss: 1.778\n",
            "[2,  6000] loss: 1.736\n",
            "[2,  8000] loss: 1.707\n",
            "[2, 10000] loss: 1.710\n",
            "[2, 12000] loss: 1.682\n",
            "[3,  2000] loss: 1.659\n",
            "[3,  4000] loss: 1.643\n",
            "[3,  6000] loss: 1.612\n",
            "[3,  8000] loss: 1.614\n",
            "[3, 10000] loss: 1.607\n",
            "[3, 12000] loss: 1.587\n",
            "[4,  2000] loss: 1.557\n",
            "[4,  4000] loss: 1.564\n",
            "[4,  6000] loss: 1.534\n",
            "[4,  8000] loss: 1.525\n",
            "[4, 10000] loss: 1.483\n",
            "[4, 12000] loss: 1.488\n",
            "[5,  2000] loss: 1.452\n",
            "[5,  4000] loss: 1.458\n",
            "[5,  6000] loss: 1.451\n",
            "[5,  8000] loss: 1.459\n",
            "[5, 10000] loss: 1.428\n",
            "[5, 12000] loss: 1.448\n",
            "[6,  2000] loss: 1.430\n",
            "[6,  4000] loss: 1.405\n",
            "[6,  6000] loss: 1.379\n",
            "[6,  8000] loss: 1.381\n",
            "[6, 10000] loss: 1.366\n",
            "[6, 12000] loss: 1.369\n",
            "[7,  2000] loss: 1.345\n",
            "[7,  4000] loss: 1.344\n",
            "[7,  6000] loss: 1.362\n",
            "[7,  8000] loss: 1.311\n",
            "[7, 10000] loss: 1.335\n",
            "[7, 12000] loss: 1.318\n",
            "[8,  2000] loss: 1.286\n",
            "[8,  4000] loss: 1.324\n",
            "[8,  6000] loss: 1.289\n",
            "[8,  8000] loss: 1.271\n",
            "[8, 10000] loss: 1.280\n",
            "[8, 12000] loss: 1.283\n",
            "[9,  2000] loss: 1.242\n",
            "[9,  4000] loss: 1.230\n",
            "[9,  6000] loss: 1.260\n",
            "[9,  8000] loss: 1.225\n",
            "[9, 10000] loss: 1.258\n",
            "[9, 12000] loss: 1.260\n",
            "[10,  2000] loss: 1.241\n",
            "[10,  4000] loss: 1.226\n",
            "[10,  6000] loss: 1.223\n",
            "[10,  8000] loss: 1.213\n",
            "[10, 10000] loss: 1.204\n",
            "[10, 12000] loss: 1.190\n",
            "[11,  2000] loss: 1.216\n",
            "[11,  4000] loss: 1.212\n",
            "[11,  6000] loss: 1.172\n",
            "[11,  8000] loss: 1.192\n",
            "[11, 10000] loss: 1.186\n",
            "[11, 12000] loss: 1.172\n",
            "[12,  2000] loss: 1.149\n",
            "[12,  4000] loss: 1.151\n",
            "[12,  6000] loss: 1.166\n",
            "[12,  8000] loss: 1.169\n",
            "[12, 10000] loss: 1.173\n",
            "[12, 12000] loss: 1.148\n",
            "[13,  2000] loss: 1.127\n",
            "[13,  4000] loss: 1.156\n",
            "[13,  6000] loss: 1.141\n",
            "[13,  8000] loss: 1.137\n",
            "[13, 10000] loss: 1.121\n",
            "[13, 12000] loss: 1.120\n",
            "[14,  2000] loss: 1.113\n",
            "[14,  4000] loss: 1.115\n",
            "[14,  6000] loss: 1.102\n",
            "[14,  8000] loss: 1.118\n",
            "[14, 10000] loss: 1.115\n",
            "[14, 12000] loss: 1.126\n",
            "[15,  2000] loss: 1.098\n",
            "[15,  4000] loss: 1.105\n",
            "[15,  6000] loss: 1.091\n",
            "[15,  8000] loss: 1.090\n",
            "[15, 10000] loss: 1.103\n",
            "[15, 12000] loss: 1.085\n",
            "[16,  2000] loss: 1.110\n",
            "[16,  4000] loss: 1.059\n",
            "[16,  6000] loss: 1.081\n",
            "[16,  8000] loss: 1.091\n",
            "[16, 10000] loss: 1.104\n",
            "[16, 12000] loss: 1.055\n",
            "[17,  2000] loss: 1.059\n",
            "[17,  4000] loss: 1.074\n",
            "[17,  6000] loss: 1.052\n",
            "[17,  8000] loss: 1.072\n",
            "[17, 10000] loss: 1.068\n",
            "[17, 12000] loss: 1.046\n",
            "[18,  2000] loss: 1.046\n",
            "[18,  4000] loss: 1.029\n",
            "[18,  6000] loss: 1.077\n",
            "[18,  8000] loss: 1.042\n",
            "[18, 10000] loss: 1.056\n",
            "[18, 12000] loss: 1.053\n",
            "[19,  2000] loss: 1.036\n",
            "[19,  4000] loss: 1.034\n",
            "[19,  6000] loss: 1.032\n",
            "[19,  8000] loss: 1.034\n",
            "[19, 10000] loss: 1.019\n",
            "[19, 12000] loss: 1.041\n",
            "[20,  2000] loss: 1.053\n",
            "[20,  4000] loss: 0.999\n",
            "[20,  6000] loss: 1.025\n",
            "[20,  8000] loss: 1.028\n",
            "[20, 10000] loss: 1.002\n",
            "[20, 12000] loss: 1.047\n",
            "[21,  2000] loss: 1.008\n",
            "[21,  4000] loss: 0.987\n",
            "[21,  6000] loss: 1.005\n",
            "[21,  8000] loss: 1.033\n",
            "[21, 10000] loss: 1.021\n",
            "[21, 12000] loss: 0.993\n",
            "[22,  2000] loss: 1.009\n",
            "[22,  4000] loss: 0.993\n",
            "[22,  6000] loss: 1.013\n",
            "[22,  8000] loss: 0.983\n",
            "[22, 10000] loss: 1.020\n",
            "[22, 12000] loss: 0.996\n",
            "[23,  2000] loss: 0.990\n",
            "[23,  4000] loss: 0.988\n",
            "[23,  6000] loss: 0.977\n",
            "[23,  8000] loss: 1.004\n",
            "[23, 10000] loss: 0.977\n",
            "[23, 12000] loss: 0.996\n",
            "[24,  2000] loss: 0.960\n",
            "[24,  4000] loss: 0.990\n",
            "[24,  6000] loss: 0.980\n",
            "[24,  8000] loss: 0.959\n",
            "[24, 10000] loss: 0.999\n",
            "[24, 12000] loss: 0.990\n",
            "[25,  2000] loss: 0.964\n",
            "[25,  4000] loss: 0.970\n",
            "[25,  6000] loss: 0.987\n",
            "[25,  8000] loss: 0.967\n",
            "[25, 10000] loss: 0.968\n",
            "[25, 12000] loss: 0.992\n",
            "[26,  2000] loss: 0.973\n",
            "[26,  4000] loss: 0.949\n",
            "[26,  6000] loss: 0.976\n",
            "[26,  8000] loss: 0.970\n",
            "[26, 10000] loss: 0.966\n",
            "[26, 12000] loss: 0.953\n",
            "[27,  2000] loss: 0.943\n",
            "[27,  4000] loss: 0.960\n",
            "[27,  6000] loss: 0.958\n",
            "[27,  8000] loss: 0.970\n",
            "[27, 10000] loss: 0.955\n",
            "[27, 12000] loss: 0.948\n",
            "[28,  2000] loss: 0.936\n",
            "[28,  4000] loss: 0.927\n",
            "[28,  6000] loss: 0.945\n",
            "[28,  8000] loss: 0.942\n",
            "[28, 10000] loss: 0.945\n",
            "[28, 12000] loss: 0.941\n",
            "[29,  2000] loss: 0.950\n",
            "[29,  4000] loss: 0.928\n",
            "[29,  6000] loss: 0.939\n",
            "[29,  8000] loss: 0.958\n",
            "[29, 10000] loss: 0.925\n",
            "[29, 12000] loss: 0.923\n",
            "[30,  2000] loss: 0.926\n",
            "[30,  4000] loss: 0.935\n",
            "[30,  6000] loss: 0.940\n",
            "[30,  8000] loss: 0.947\n",
            "[30, 10000] loss: 0.918\n",
            "[30, 12000] loss: 0.930\n",
            "[31,  2000] loss: 0.950\n",
            "[31,  4000] loss: 0.931\n",
            "[31,  6000] loss: 0.918\n",
            "[31,  8000] loss: 0.933\n",
            "[31, 10000] loss: 0.946\n",
            "[31, 12000] loss: 0.919\n",
            "[32,  2000] loss: 0.934\n",
            "[32,  4000] loss: 0.911\n",
            "[32,  6000] loss: 0.930\n",
            "[32,  8000] loss: 0.931\n",
            "[32, 10000] loss: 0.917\n",
            "[32, 12000] loss: 0.930\n",
            "[33,  2000] loss: 0.927\n",
            "[33,  4000] loss: 0.893\n",
            "[33,  6000] loss: 0.920\n",
            "[33,  8000] loss: 0.911\n",
            "[33, 10000] loss: 0.941\n",
            "[33, 12000] loss: 0.917\n",
            "[34,  2000] loss: 0.926\n",
            "[34,  4000] loss: 0.915\n",
            "[34,  6000] loss: 0.890\n",
            "[34,  8000] loss: 0.933\n",
            "[34, 10000] loss: 0.915\n",
            "[34, 12000] loss: 0.904\n",
            "[35,  2000] loss: 0.889\n",
            "[35,  4000] loss: 0.917\n",
            "[35,  6000] loss: 0.881\n",
            "[35,  8000] loss: 0.900\n",
            "[35, 10000] loss: 0.909\n",
            "[35, 12000] loss: 0.889\n",
            "Finished Training\n"
          ],
          "name": "stdout"
        }
      ]
    },
    {
      "cell_type": "markdown",
      "metadata": {
        "id": "YLrvL_fHpoC5",
        "colab_type": "text"
      },
      "source": [
        "5. Test the network on the test data\n",
        "^^^^^^^^^^^^^^^^^^^^^^^^^^^^^^^^^^^^\n",
        "\n",
        "We have trained the network for 2 passes over the training dataset.\n",
        "But we need to check if the network has learnt anything at all.\n",
        "\n",
        "We will check this by predicting the class label that the neural network\n",
        "outputs, and checking it against the ground-truth. If the prediction is\n",
        "correct, we add the sample to the list of correct predictions.\n",
        "\n",
        "Okay, first step. Let us display an image from the test set to get familiar.\n",
        "\n"
      ]
    },
    {
      "cell_type": "code",
      "metadata": {
        "id": "nizbsvw9poC6",
        "colab_type": "code",
        "outputId": "f3ad75a4-f371-4438-b3d3-ae0720539b66",
        "colab": {
          "base_uri": "https://localhost:8080/",
          "height": 176
        }
      },
      "source": [
        "dataiter = iter(testloader)\n",
        "images, labels = dataiter.next()\n",
        "\n",
        "# print images\n",
        "imshow(torchvision.utils.make_grid(images))\n",
        "print('GroundTruth: ', ' '.join('%5s' % classes[labels[j]] for j in range(4)))"
      ],
      "execution_count": 10,
      "outputs": [
        {
          "output_type": "stream",
          "text": [
            "Clipping input data to the valid range for imshow with RGB data ([0..1] for floats or [0..255] for integers).\n"
          ],
          "name": "stderr"
        },
        {
          "output_type": "stream",
          "text": [
            "GroundTruth:    cat  ship  ship plane\n"
          ],
          "name": "stdout"
        },
        {
          "output_type": "display_data",
          "data": {
            "image/png": "[encoded data removed]",
            "text/plain": [
              "<Figure size 432x288 with 1 Axes>"
            ]
          },
          "metadata": {
            "tags": []
          }
        }
      ]
    },
    {
      "cell_type": "markdown",
      "metadata": {
        "id": "DAx4QPHVpoC8",
        "colab_type": "text"
      },
      "source": [
        "Okay, now let us see what the neural network thinks these examples above are:\n",
        "\n"
      ]
    },
    {
      "cell_type": "code",
      "metadata": {
        "id": "HVLjlssWpoC9",
        "colab_type": "code",
        "colab": {}
      },
      "source": [
        "images= images.to(device)\n",
        "outputs = net(images)"
      ],
      "execution_count": 0,
      "outputs": []
    },
    {
      "cell_type": "markdown",
      "metadata": {
        "id": "u8OTHZEApoC_",
        "colab_type": "text"
      },
      "source": [
        "The outputs are energies for the 10 classes.\n",
        "Higher the energy for a class, the more the network\n",
        "thinks that the image is of the particular class.\n",
        "So, let's get the index of the highest energy:\n",
        "\n"
      ]
    },
    {
      "cell_type": "code",
      "metadata": {
        "id": "ABRIDW3lpoDA",
        "colab_type": "code",
        "outputId": "a4e30705-9c6b-479e-9f49-9942696bd616",
        "colab": {
          "base_uri": "https://localhost:8080/",
          "height": 36
        }
      },
      "source": [
        "_, predicted = torch.max(outputs, 1)\n",
        "\n",
        "print('Predicted: ', ' '.join('%5s' % classes[predicted[j]]\n",
        "                              for j in range(4)))"
      ],
      "execution_count": 12,
      "outputs": [
        {
          "output_type": "stream",
          "text": [
            "Predicted:    dog  ship   car plane\n"
          ],
          "name": "stdout"
        }
      ]
    },
    {
      "cell_type": "markdown",
      "metadata": {
        "id": "2TV0TXL1poDC",
        "colab_type": "text"
      },
      "source": [
        "The results seem pretty good.\n",
        "\n",
        "Let us look at how the network performs on the whole dataset.\n",
        "\n"
      ]
    },
    {
      "cell_type": "code",
      "metadata": {
        "id": "SZ4-5CESpoDD",
        "colab_type": "code",
        "outputId": "74cb1454-46ca-4bf5-d9de-ec78024c8cd6",
        "colab": {
          "base_uri": "https://localhost:8080/",
          "height": 36
        }
      },
      "source": [
        "correct = 0\n",
        "total = 0\n",
        "with torch.no_grad():\n",
        "    for data in testloader:\n",
        "        images, labels = data\n",
        "        images =images.to(device)\n",
        "        labels = labels.to(device)\n",
        "        outputs = net(images)\n",
        "        _, predicted = torch.max(outputs.data, 1)\n",
        "        total += labels.size(0)\n",
        "        correct += (predicted == labels).sum().item()\n",
        "\n",
        "print('Accuracy of the network on the 10000 test images: %d %%' % (\n",
        "    100 * correct / total))"
      ],
      "execution_count": 13,
      "outputs": [
        {
          "output_type": "stream",
          "text": [
            "Accuracy of the network on the 10000 test images: 69 %\n"
          ],
          "name": "stdout"
        }
      ]
    },
    {
      "cell_type": "markdown",
      "metadata": {
        "id": "eDdwPBl8poDF",
        "colab_type": "text"
      },
      "source": [
        "That looks waaay better than chance, which is 10% accuracy (randomly picking\n",
        "a class out of 10 classes).\n",
        "Seems like the network learnt something.\n",
        "\n",
        "Hmmm, what are the classes that performed well, and the classes that did\n",
        "not perform well:\n",
        "\n"
      ]
    },
    {
      "cell_type": "code",
      "metadata": {
        "id": "pDNFuDEDpoDG",
        "colab_type": "code",
        "outputId": "c8ba6918-2cc8-4fa6-cf1f-b0b315343603",
        "colab": {
          "base_uri": "https://localhost:8080/",
          "height": 205
        }
      },
      "source": [
        "class_correct = list(0. for i in range(10))\n",
        "class_total = list(0. for i in range(10))\n",
        "with torch.no_grad():\n",
        "    for data in testloader:\n",
        "        images, labels = data\n",
        "        images =images.to(device)\n",
        "        labels = labels.to(device)\n",
        "        outputs = net(images)\n",
        "        _, predicted = torch.max(outputs, 1)\n",
        "        c = (predicted == labels).squeeze()\n",
        "        for i in range(4):\n",
        "            label = labels[i]\n",
        "            class_correct[label] += c[i].item()\n",
        "            class_total[label] += 1\n",
        "\n",
        "\n",
        "for i in range(10):\n",
        "    print('Accuracy of %5s : %2d %%' % (\n",
        "        classes[i], 100 * class_correct[i] / class_total[i]))"
      ],
      "execution_count": 14,
      "outputs": [
        {
          "output_type": "stream",
          "text": [
            "Accuracy of plane : 79 %\n",
            "Accuracy of   car : 88 %\n",
            "Accuracy of  bird : 47 %\n",
            "Accuracy of   cat : 15 %\n",
            "Accuracy of  deer : 64 %\n",
            "Accuracy of   dog : 70 %\n",
            "Accuracy of  frog : 84 %\n",
            "Accuracy of horse : 72 %\n",
            "Accuracy of  ship : 83 %\n",
            "Accuracy of truck : 88 %\n"
          ],
          "name": "stdout"
        }
      ]
    }
  ]
}